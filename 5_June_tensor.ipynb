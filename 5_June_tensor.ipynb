{
  "nbformat": 4,
  "nbformat_minor": 0,
  "metadata": {
    "colab": {
      "provenance": []
    },
    "kernelspec": {
      "name": "python3",
      "display_name": "Python 3"
    },
    "language_info": {
      "name": "python"
    }
  },
  "cells": [
    {
      "cell_type": "markdown",
      "source": [
        "##Part 1: Theoretical Quetions"
      ],
      "metadata": {
        "id": "hVv8bxalUb4i"
      }
    },
    {
      "cell_type": "markdown",
      "source": [
        "1) What are the different data structures used in Tensorflow?. Give some examples.\n",
        "\n",
        "2) How does the TensorFlow constant differ from a TensorFlow variable? Explain with an example?\n",
        "\n",
        "3)Describe the process of matrix addition, multiplication, and elementDwise operations in TensorFlow."
      ],
      "metadata": {
        "id": "hZ2VbmPVUg3x"
      }
    },
    {
      "cell_type": "markdown",
      "source": [
        "### Part 1: Theoretical Questions\n",
        "\n",
        "#### Tc: Different Data Structures Used in TensorFlow\n",
        "\n",
        "TensorFlow uses various data structures to represent and manipulate data. Some of the primary data structures include:\n",
        "\n",
        "1. **Tensors**:\n",
        "   - Multi-dimensional arrays with a uniform type.\n",
        "   - Similar to NumPy arrays but with additional capabilities for GPU acceleration.\n",
        "   - Example: `tf.constant([1, 2, 3])`\n",
        "\n",
        "2. **Variables**:\n",
        "   - Mutable data structures that can be updated during the execution of a TensorFlow program.\n",
        "   - Used to represent weights in neural networks.\n",
        "   - Example: `tf.Variable([1.0, 2.0, 3.0])`\n",
        "\n",
        "3. **Datasets**:\n",
        "   - Used for input pipelines to feed data into models.\n",
        "   - Can be created from various sources like arrays, files, or other datasets.\n",
        "   - Example: `tf.data.Dataset.from_tensor_slices([1, 2, 3])`\n",
        "\n",
        "4. **SparseTensors**:\n",
        "   - Efficient representation of tensors with a majority of zero elements.\n",
        "   - Example: `tf.sparse.SparseTensor(indices=[[0, 0], [1, 2]], values=[1, 2], dense_shape=[3, 4])`\n",
        "\n",
        "#### Cc: TensorFlow Constant vs. TensorFlow Variable\n",
        "\n",
        "- **TensorFlow Constant**:\n",
        "  - Immutable data structures.\n",
        "  - Values are fixed and cannot be changed once created.\n",
        "  - Useful for storing fixed values, like configurations or predefined data.\n",
        "  \n",
        "  Example:\n",
        "  ```python\n",
        "  import tensorflow as tf\n",
        "  const = tf.constant([1.0, 2.0, 3.0])\n",
        "  print(const)\n",
        "  ```\n",
        "\n",
        "- **TensorFlow Variable**:\n",
        "  - Mutable data structures.\n",
        "  - Values can be updated during the execution of the program.\n",
        "  - Commonly used for model parameters like weights and biases which need to be updated during training.\n",
        "  \n",
        "  Example:\n",
        "  ```python\n",
        "  var = tf.Variable([1.0, 2.0, 3.0])\n",
        "  var.assign([4.0, 5.0, 6.0])\n",
        "  print(var)\n",
        "  ```\n",
        "\n",
        "#### =c: Matrix Operations in TensorFlow\n",
        "\n",
        "TensorFlow provides various functions for matrix operations, including addition, multiplication, and element-wise operations.\n",
        "\n",
        "1. **Matrix Addition**:\n",
        "   - Element-wise addition of two matrices.\n",
        "   \n",
        "   Example:\n",
        "   ```python\n",
        "   a = tf.constant([[1, 2], [3, 4]])\n",
        "   b = tf.constant([[5, 6], [7, 8]])\n",
        "   result = tf.add(a, b)\n",
        "   print(result)\n",
        "   ```\n",
        "\n",
        "2. **Matrix Multiplication**:\n",
        "   - Standard matrix multiplication (dot product).\n",
        "   \n",
        "   Example:\n",
        "   ```python\n",
        "   a = tf.constant([[1, 2], [3, 4]])\n",
        "   b = tf.constant([[5, 6], [7, 8]])\n",
        "   result = tf.matmul(a, b)\n",
        "   print(result)\n",
        "   ```\n",
        "\n",
        "3. **Element-wise Operations**:\n",
        "   - Operations applied element by element, such as multiplication or division.\n",
        "   \n",
        "   Example:\n",
        "   ```python\n",
        "   a = tf.constant([[1, 2], [3, 4]])\n",
        "   b = tf.constant([[5, 6], [7, 8]])\n",
        "   result = tf.multiply(a, b)  # Element-wise multiplication\n",
        "   print(result)\n",
        "   ```\n",
        "\n",
        "### Summary\n",
        "\n",
        "- **Data Structures**: TensorFlow uses tensors, variables, datasets, and sparse tensors.\n",
        "- **Constants vs. Variables**: Constants are immutable, while variables are mutable and can be updated.\n",
        "- **Matrix Operations**: TensorFlow supports matrix addition, multiplication, and element-wise operations with straightforward syntax."
      ],
      "metadata": {
        "id": "G-sHVMnpUg6Z"
      }
    },
    {
      "cell_type": "markdown",
      "source": [
        "##**Part 2 practical implementation**"
      ],
      "metadata": {
        "id": "3TO0_6WDUg9L"
      }
    },
    {
      "cell_type": "markdown",
      "source": [
        "## **Creating and Manipulating Matrices **"
      ],
      "metadata": {
        "id": "3MZUp04iUg_x"
      }
    },
    {
      "cell_type": "markdown",
      "source": [
        "1) Create a normal matrix A with dimensions 2x2, using TensorFlow's random_normal function. Display the\n",
        "values of matrix ."
      ],
      "metadata": {
        "id": "orZM6C5BUhCa"
      }
    },
    {
      "cell_type": "code",
      "source": [
        "import tensorflow as tf\n",
        "\n",
        "# Create matrix A with dimensions 2x2 using random_normal\n",
        "A = tf.random.normal([2, 2])\n",
        "print(\"Matrix A:\")\n",
        "print(A)\n"
      ],
      "metadata": {
        "colab": {
          "base_uri": "https://localhost:8080/"
        },
        "id": "Gr2ynz6bVila",
        "outputId": "7a34565d-63e1-4b84-fc4c-f1b61aedbf16"
      },
      "execution_count": 1,
      "outputs": [
        {
          "output_type": "stream",
          "name": "stdout",
          "text": [
            "Matrix A:\n",
            "tf.Tensor(\n",
            "[[-0.05802727 -1.05032   ]\n",
            " [-0.9455281  -0.4682873 ]], shape=(2, 2), dtype=float32)\n"
          ]
        }
      ]
    },
    {
      "cell_type": "markdown",
      "source": [
        "2)Create a Gaussian matrix B with dimensions x, using TensorFlow's truncated_normal function. Display\n",
        "the values of matrix B"
      ],
      "metadata": {
        "id": "lAUnlcz6UhH5"
      }
    },
    {
      "cell_type": "code",
      "source": [
        "# Create matrix B with dimensions 2x2 using truncated_normal\n",
        "B = tf.random.truncated_normal([2, 2])\n",
        "print(\"Matrix B:\")\n",
        "print(B)\n"
      ],
      "metadata": {
        "colab": {
          "base_uri": "https://localhost:8080/"
        },
        "id": "GmK15j3cVwRw",
        "outputId": "0a4d783a-c544-4cec-f3cb-52fdf038a295"
      },
      "execution_count": 2,
      "outputs": [
        {
          "output_type": "stream",
          "name": "stdout",
          "text": [
            "Matrix B:\n",
            "tf.Tensor(\n",
            "[[-0.8247807   0.5296175 ]\n",
            " [-0.35310888 -0.16082053]], shape=(2, 2), dtype=float32)\n"
          ]
        }
      ]
    },
    {
      "cell_type": "markdown",
      "source": [
        "3) Create a matrix C with dimensions 2x2, where the values are drawn from a normal distribution with a\n",
        "mean of 3 and a standard deviation of 0.5, using TensorFlow's random.normal function. Display the values\n",
        "of matrix."
      ],
      "metadata": {
        "id": "uAXWSjmVUhMp"
      }
    },
    {
      "cell_type": "code",
      "source": [
        "# Create matrix C with dimensions 2x2 using random.normal with mean=2 and stddev=0.5\n",
        "C = tf.random.normal([2, 2], mean=3, stddev=0.5)\n",
        "print(\"Matrix C:\")\n",
        "print(C)\n"
      ],
      "metadata": {
        "colab": {
          "base_uri": "https://localhost:8080/"
        },
        "id": "9SMY8Si4WCF7",
        "outputId": "c2c7c075-9c08-4067-b2ea-8aa1d7962113"
      },
      "execution_count": 3,
      "outputs": [
        {
          "output_type": "stream",
          "name": "stdout",
          "text": [
            "Matrix C:\n",
            "tf.Tensor(\n",
            "[[2.202033  3.2501633]\n",
            " [3.2113674 3.6343849]], shape=(2, 2), dtype=float32)\n"
          ]
        }
      ]
    },
    {
      "cell_type": "code",
      "source": [
        "##4)Perform matrix addition between matrix A and matrix B, and store the result in matrix D.\n",
        "# Perform matrix addition between A and B\n",
        "D = tf.add(A, B)\n",
        "print(\"Matrix D (A + B):\")\n",
        "print(D)\n"
      ],
      "metadata": {
        "colab": {
          "base_uri": "https://localhost:8080/"
        },
        "id": "BrnPFkW-WKD8",
        "outputId": "dac1a77e-2c9b-439f-b201-d69e64f5c5f4"
      },
      "execution_count": 5,
      "outputs": [
        {
          "output_type": "stream",
          "name": "stdout",
          "text": [
            "Matrix D (A + B):\n",
            "tf.Tensor(\n",
            "[[-0.88280797 -0.52070254]\n",
            " [-1.2986369  -0.62910783]], shape=(2, 2), dtype=float32)\n"
          ]
        }
      ]
    },
    {
      "cell_type": "code",
      "source": [
        "##5Perform matrix multiplication between matrix C and matrix D, and store the result in matrix E.\n",
        "# Perform matrix multiplication between C and D\n",
        "E = tf.matmul(C, D)\n",
        "print(\"Matrix E (C * D):\")\n",
        "print(E)\n",
        "\n",
        "#"
      ],
      "metadata": {
        "colab": {
          "base_uri": "https://localhost:8080/"
        },
        "id": "0WM2cDgUWfGP",
        "outputId": "f4f7774e-51d1-4ec0-b09b-d9c44fbc6e50"
      },
      "execution_count": 6,
      "outputs": [
        {
          "output_type": "stream",
          "name": "stdout",
          "text": [
            "Matrix E (C * D):\n",
            "tf.Tensor(\n",
            "[[-6.164755  -3.1913075]\n",
            " [-7.5547667 -3.9585872]], shape=(2, 2), dtype=float32)\n"
          ]
        }
      ]
    },
    {
      "cell_type": "markdown",
      "source": [
        "#Task 2: Performing Additional Matrix Operations"
      ],
      "metadata": {
        "id": "9lLjlyvpWzmN"
      }
    },
    {
      "cell_type": "code",
      "source": [
        "import tensorflow as tf\n",
        "\n",
        "# Create matrix F with dimensions 2x2 using random_uniform\n",
        "F = tf.random.uniform([2, 2])\n",
        "print(\"Matrix F:\")\n",
        "print(F)\n",
        "\n",
        "# Calculate the transpose of matrix F\n",
        "G = tf.transpose(F)\n",
        "print(\"Matrix G (transpose of F):\")\n",
        "print(G)\n",
        "\n",
        "# Calculate the element-wise exponential of matrix F\n",
        "H = tf.exp(F)\n",
        "print(\"Matrix H (element-wise exponential of F):\")\n",
        "print(H)\n",
        "\n",
        "# Concatenate matrix F and matrix G horizontally\n",
        "I = tf.concat([F, G], axis=1)\n",
        "print(\"Matrix I (F and G concatenated horizontally):\")\n",
        "print(I)\n",
        "\n",
        "# Concatenate matrix F and matrix H vertically\n",
        "J = tf.concat([F, H], axis=0)\n",
        "print(\"Matrix J (F and H concatenated vertically):\")\n",
        "print(J)\n"
      ],
      "metadata": {
        "colab": {
          "base_uri": "https://localhost:8080/"
        },
        "id": "JIpYy3I3XQ5Z",
        "outputId": "05af0fda-6fee-4299-96de-bde0cfc07585"
      },
      "execution_count": 7,
      "outputs": [
        {
          "output_type": "stream",
          "name": "stdout",
          "text": [
            "Matrix F:\n",
            "tf.Tensor(\n",
            "[[0.7593688 0.4971155]\n",
            " [0.9994184 0.8771013]], shape=(2, 2), dtype=float32)\n",
            "Matrix G (transpose of F):\n",
            "tf.Tensor(\n",
            "[[0.7593688 0.9994184]\n",
            " [0.4971155 0.8771013]], shape=(2, 2), dtype=float32)\n",
            "Matrix H (element-wise exponential of F):\n",
            "tf.Tensor(\n",
            "[[2.136927  1.6439724]\n",
            " [2.7167013 2.4039214]], shape=(2, 2), dtype=float32)\n",
            "Matrix I (F and G concatenated horizontally):\n",
            "tf.Tensor(\n",
            "[[0.7593688 0.4971155 0.7593688 0.9994184]\n",
            " [0.9994184 0.8771013 0.4971155 0.8771013]], shape=(2, 4), dtype=float32)\n",
            "Matrix J (F and H concatenated vertically):\n",
            "tf.Tensor(\n",
            "[[0.7593688 0.4971155]\n",
            " [0.9994184 0.8771013]\n",
            " [2.136927  1.6439724]\n",
            " [2.7167013 2.4039214]], shape=(4, 2), dtype=float32)\n"
          ]
        }
      ]
    },
    {
      "cell_type": "code",
      "source": [],
      "metadata": {
        "id": "8oEyoWDoXRhQ"
      },
      "execution_count": null,
      "outputs": []
    }
  ]
}